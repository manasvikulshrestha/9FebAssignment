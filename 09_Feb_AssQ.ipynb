{
 "cells": [
  {
   "cell_type": "markdown",
   "id": "17695224-9fb6-4535-9f81-6c73a2eaa64f",
   "metadata": {},
   "source": [
    "Q1, Create a vehicle class with an init method having instance variables as name_of_vehicle, max_speed  and average_of_vehicle.  "
   ]
  },
  {
   "cell_type": "code",
   "execution_count": 4,
   "id": "fadf9a38-4e39-4245-8316-1caef2f93e0d",
   "metadata": {},
   "outputs": [],
   "source": [
    "class vehicle:\n",
    "    def __init__(self, name_of_vehicle, max_speed, average_of_vehicle):\n",
    "        self.name_of_vehicle = name_of_vehicle\n",
    "        self.max_speed = max_speed\n",
    "        self.average_of_vehicle = average_of_vehicle"
   ]
  },
  {
   "cell_type": "code",
   "execution_count": 5,
   "id": "5f3c5d6b-80f9-4a5d-84ca-492aac97b0c5",
   "metadata": {},
   "outputs": [],
   "source": [
    "car1=vehicle('car',119, 50)"
   ]
  },
  {
   "cell_type": "code",
   "execution_count": 6,
   "id": "2a441033-cebd-44f9-9ee3-8afc091607c8",
   "metadata": {},
   "outputs": [
    {
     "data": {
      "text/plain": [
       "__main__.vehicle"
      ]
     },
     "execution_count": 6,
     "metadata": {},
     "output_type": "execute_result"
    }
   ],
   "source": [
    "type(car1)"
   ]
  },
  {
   "cell_type": "markdown",
   "id": "88a150f9-28e6-4796-afc3-ee00c424ad6b",
   "metadata": {},
   "source": [
    "Q2.  Create a child class car from the vehicle class created in Que 1, which will inherit the vehicle class.  Create a method named seating_capacity which takes capacity as an argument and returns the name of  the vehicle and its seating capacity. "
   ]
  },
  {
   "cell_type": "code",
   "execution_count": 7,
   "id": "4604f411-506a-4ad1-870e-928b785801f1",
   "metadata": {},
   "outputs": [],
   "source": [
    "class car(vehicle):\n",
    "    def seating_capacity(self, capacity):\n",
    "        return self.name_of_vehicle, capacity"
   ]
  },
  {
   "cell_type": "code",
   "execution_count": 10,
   "id": "8b897d91-14ac-413e-8fb6-7e670da57864",
   "metadata": {},
   "outputs": [],
   "source": [
    "car2=car('car',119, 50)"
   ]
  },
  {
   "cell_type": "code",
   "execution_count": 11,
   "id": "48c95770-81a7-4daa-83bb-0df32d38ff18",
   "metadata": {},
   "outputs": [
    {
     "data": {
      "text/plain": [
       "('car', 5)"
      ]
     },
     "execution_count": 11,
     "metadata": {},
     "output_type": "execute_result"
    }
   ],
   "source": [
    "car2.seating_capacity(5)"
   ]
  },
  {
   "cell_type": "markdown",
   "id": "ca4ea5c0-4683-46aa-8aca-1db0fff08e6e",
   "metadata": {},
   "source": [
    "Q3. What is multiple inheritance? Write a python code to demonstrate multiple inheritance. \n",
    "A3. When a class is derived from more than one base class it is called multiple Inheritance. The derived class inherits all the features of the base case."
   ]
  },
  {
   "cell_type": "code",
   "execution_count": 12,
   "id": "d40ceb6e-f0df-4e17-bb03-a3e1efe8d325",
   "metadata": {},
   "outputs": [
    {
     "name": "stdout",
     "output_type": "stream",
     "text": [
      "Father : RAM\n",
      "Mother : SITA\n"
     ]
    }
   ],
   "source": [
    "#Multiple Inheritance\n",
    "class Mother:\n",
    "\tmothername = \"\"\n",
    "\tdef mother(self):\n",
    "\t\tprint(self.mothername)\n",
    "class Father:\n",
    "\tfathername = \"\"\n",
    "\tdef father(self):\n",
    "\t\tprint(self.fathername)\n",
    "class Son(Mother, Father):\n",
    "\tdef parents(self):\n",
    "\t\tprint(\"Father :\", self.fathername)\n",
    "\t\tprint(\"Mother :\", self.mothername)\n",
    "s1 = Son()\n",
    "s1.fathername = \"RAM\"\n",
    "s1.mothername = \"SITA\"\n",
    "s1.parents()"
   ]
  },
  {
   "cell_type": "markdown",
   "id": "692b8379-deb5-4cc3-9e6b-5b997b80c8bf",
   "metadata": {},
   "source": [
    "Q4. What are getter and setter in python? Create a class and create a getter and a setter method in this  class.  \n",
    "A4. Basically, the main purpose of using getters and setters in object-oriented programs is to ensure data encapsulation. Private variables in python are not actually hidden fields like in other object oriented languages. Getters and Setters in python are often used to:\n",
    "Getter: A method that allows you to access a private/protected attribute in a given class. \n",
    "Setter: A method that allows you to set or mutate the value of a private/protected attribute in a class"
   ]
  },
  {
   "cell_type": "code",
   "execution_count": 54,
   "id": "ed332fce-71da-4dbc-8818-04bdb3dd2fa8",
   "metadata": {},
   "outputs": [],
   "source": [
    "class bank:\n",
    "    def __init__(self, acc_no, holder_name):\n",
    "        self.__acc_no = acc_no\n",
    "        self.holder_name = holder_name\n",
    "        \n",
    "    @property\n",
    "    def acc_no_access(self):\n",
    "        return self.__acc_no\n",
    "    \n",
    "    @acc_no_access.setter\n",
    "    def acc_no_set(self, new_no):\n",
    "        self.__acc_no = new_no\n",
    "            \n",
    "    @acc_no_access.deleter\n",
    "    def acc_no_del(self):\n",
    "        del self.__acc_no"
   ]
  },
  {
   "cell_type": "code",
   "execution_count": 62,
   "id": "b366a2da-2dbc-4c31-8a7a-c8e6be8ff3c2",
   "metadata": {},
   "outputs": [],
   "source": [
    "obj_bank = bank (112, 'Manasvi')"
   ]
  },
  {
   "cell_type": "code",
   "execution_count": 63,
   "id": "73a371c4-a57c-438a-877b-c6e45d2f55a4",
   "metadata": {},
   "outputs": [
    {
     "data": {
      "text/plain": [
       "112"
      ]
     },
     "execution_count": 63,
     "metadata": {},
     "output_type": "execute_result"
    }
   ],
   "source": [
    "obj_bank.acc_no_access"
   ]
  },
  {
   "cell_type": "code",
   "execution_count": 64,
   "id": "144266e9-8e03-4b3f-9fa9-4154e48316c4",
   "metadata": {},
   "outputs": [
    {
     "data": {
      "text/plain": [
       "112"
      ]
     },
     "execution_count": 64,
     "metadata": {},
     "output_type": "execute_result"
    }
   ],
   "source": [
    "obj_bank.acc_no_del"
   ]
  },
  {
   "cell_type": "markdown",
   "id": "84be38b1-4404-4893-8baa-a23d4de37f9a",
   "metadata": {},
   "source": [
    "Q5. What is method overriding in python? Write a python code to demonstrate method overriding.\n",
    "A5. Method overriding is an ability of any object-oriented programming language that allows a subclass or child class to provide a specific implementation of a method that is already provided by one of its super-classes or parent classes. When a method in a subclass has the same name, same parameters or signature and same return type(or sub-type) as a method in its super-class, then the method in the subclass is said to override the method in the super-class."
   ]
  },
  {
   "cell_type": "code",
   "execution_count": 65,
   "id": "200281b5-1426-4274-b503-46cb0d268ea7",
   "metadata": {},
   "outputs": [
    {
     "name": "stdout",
     "output_type": "stream",
     "text": [
      "Inside Parent\n",
      "Inside Child\n"
     ]
    }
   ],
   "source": [
    "class Parent():\n",
    "\tdef __init__(self):\n",
    "\t\tself.value = \"Inside Parent\"\n",
    "\tdef show(self):\n",
    "\t\tprint(self.value)\n",
    "class Child(Parent):\n",
    "\tdef __init__(self):\n",
    "\t\tself.value = \"Inside Child\"\n",
    "\tdef show(self):\n",
    "\t\tprint(self.value)\n",
    "obj1 = Parent()\n",
    "obj2 = Child()\n",
    "obj1.show()\n",
    "obj2.show()"
   ]
  }
 ],
 "metadata": {
  "kernelspec": {
   "display_name": "Python 3 (ipykernel)",
   "language": "python",
   "name": "python3"
  },
  "language_info": {
   "codemirror_mode": {
    "name": "ipython",
    "version": 3
   },
   "file_extension": ".py",
   "mimetype": "text/x-python",
   "name": "python",
   "nbconvert_exporter": "python",
   "pygments_lexer": "ipython3",
   "version": "3.10.8"
  }
 },
 "nbformat": 4,
 "nbformat_minor": 5
}
